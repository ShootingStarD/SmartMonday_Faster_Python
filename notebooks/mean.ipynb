{
 "cells": [
  {
   "cell_type": "code",
   "execution_count": 8,
   "metadata": {},
   "outputs": [],
   "source": [
    "import numpy as np\n",
    "import polars as pl\n",
    "from numba import njit\n",
    "import numba as nb"
   ]
  },
  {
   "cell_type": "markdown",
   "metadata": {},
   "source": [
    "# Mean of n first numbers"
   ]
  },
  {
   "cell_type": "markdown",
   "metadata": {},
   "source": [
    "## Pure Python"
   ]
  },
  {
   "cell_type": "code",
   "execution_count": 9,
   "metadata": {},
   "outputs": [],
   "source": [
    "n = 1_000_000\n",
    "def mean_of_n_firsts_numbers(n:int)->float:\n",
    "    sum_of_n_firsts = 0\n",
    "    for i in range(n):\n",
    "        sum_of_n_firsts += i\n",
    "    mean_of_n_firsts = sum_of_n_firsts/n\n",
    "    return mean_of_n_firsts"
   ]
  },
  {
   "cell_type": "code",
   "execution_count": 18,
   "metadata": {},
   "outputs": [
    {
     "name": "stdout",
     "output_type": "stream",
     "text": [
      "CPU times: user 85.8 ms, sys: 2.94 ms, total: 88.7 ms\n",
      "Wall time: 85.9 ms\n"
     ]
    },
    {
     "data": {
      "text/plain": [
       "499999.5"
      ]
     },
     "execution_count": 18,
     "metadata": {},
     "output_type": "execute_result"
    }
   ],
   "source": [
    "%%time\n",
    "\n",
    "mean_of_n_firsts_numbers(n)"
   ]
  },
  {
   "cell_type": "markdown",
   "metadata": {},
   "source": [
    "## C"
   ]
  },
  {
   "cell_type": "code",
   "execution_count": 19,
   "metadata": {},
   "outputs": [
    {
     "name": "stdout",
     "output_type": "stream",
     "text": [
      "Mean value is : 499999.500000 \n",
      "Mean time taken: 3.253580 ms\n"
     ]
    }
   ],
   "source": [
    "%%bash\n",
    "cd ../C_code\n",
    "gcc mean_of_n_firts_numbers.c -o mean_of_n_firts_numbers\n",
    "./mean_of_n_firts_numbers"
   ]
  },
  {
   "cell_type": "markdown",
   "metadata": {},
   "source": [
    "## Numba\n",
    "Numba allows to compile python code during execution (JIT) or ahead of time"
   ]
  },
  {
   "cell_type": "code",
   "execution_count": 21,
   "metadata": {},
   "outputs": [
    {
     "data": {
      "text/plain": [
       "499999.5"
      ]
     },
     "execution_count": 21,
     "metadata": {},
     "output_type": "execute_result"
    }
   ],
   "source": [
    "@njit\n",
    "def mean_of_n_firsts_numbers_numba(n:int)->float:\n",
    "    sum_of_n_firsts = 0\n",
    "    for i in range(n):\n",
    "        sum_of_n_firsts += i\n",
    "    mean_of_n_firsts = sum_of_n_firsts/n\n",
    "    return mean_of_n_firsts\n",
    "mean_of_n_firsts_numbers_numba(n)"
   ]
  },
  {
   "cell_type": "code",
   "execution_count": 22,
   "metadata": {},
   "outputs": [
    {
     "name": "stdout",
     "output_type": "stream",
     "text": [
      "12.6 ns ± 0.919 ns per loop (mean ± std. dev. of 7 runs, 100,000,000 loops each)\n"
     ]
    }
   ],
   "source": [
    "%%timeit\n",
    "mean_of_n_firsts_numbers_numba"
   ]
  },
  {
   "cell_type": "markdown",
   "metadata": {},
   "source": [
    "# Mean of List\n",
    "\n",
    "Let's do the same thing, but this time with a list"
   ]
  },
  {
   "cell_type": "markdown",
   "metadata": {},
   "source": [
    "## Mean in Pure Python"
   ]
  },
  {
   "cell_type": "code",
   "execution_count": 10,
   "metadata": {},
   "outputs": [],
   "source": [
    "lenght_of_list = n\n",
    "my_list = [x for x in range(lenght_of_list)]"
   ]
  },
  {
   "cell_type": "code",
   "execution_count": 11,
   "metadata": {},
   "outputs": [
    {
     "name": "stdout",
     "output_type": "stream",
     "text": [
      "17.5 ms ± 290 μs per loop (mean ± std. dev. of 7 runs, 100 loops each)\n",
      "499999.5\n"
     ]
    }
   ],
   "source": [
    "def mean_of_list_pure_python(my_list:list):\n",
    "    sum_of_x = 0\n",
    "    for x in my_list:\n",
    "        sum_of_x += x\n",
    "    return sum_of_x/len(my_list)\n",
    "%timeit mean_of_list_pure_python(my_list)\n",
    "print(mean_of_list_pure_python(my_list))"
   ]
  },
  {
   "cell_type": "code",
   "execution_count": 12,
   "metadata": {},
   "outputs": [],
   "source": [
    "speeds_records = {\"pure_python\":17.5}"
   ]
  },
  {
   "cell_type": "markdown",
   "metadata": {},
   "source": [
    "## Mean in C"
   ]
  },
  {
   "cell_type": "markdown",
   "metadata": {},
   "source": [
    "Let's run the some code in C to see how it compares"
   ]
  },
  {
   "cell_type": "code",
   "execution_count": 13,
   "metadata": {},
   "outputs": [
    {
     "name": "stdout",
     "output_type": "stream",
     "text": [
      "Mean value is : 499999.500000 \n",
      "Mean time taken: 2.032610 ms\n"
     ]
    }
   ],
   "source": [
    "%%bash\n",
    "cd ../C_code\n",
    "gcc mean.c -o mean\n",
    "./mean"
   ]
  },
  {
   "cell_type": "markdown",
   "metadata": {},
   "source": [
    "Around 4ms, C is around 8 times faster"
   ]
  },
  {
   "cell_type": "code",
   "execution_count": 14,
   "metadata": {},
   "outputs": [
    {
     "data": {
      "text/plain": [
       "8.620689655172415"
      ]
     },
     "execution_count": 14,
     "metadata": {},
     "output_type": "execute_result"
    }
   ],
   "source": [
    "speeds_records[\"C\"] = 2.03\n",
    "speeds_records[\"pure_python\"]/speeds_records[\"C\"]"
   ]
  },
  {
   "cell_type": "markdown",
   "metadata": {},
   "source": [
    "## Mean in Numba"
   ]
  },
  {
   "cell_type": "code",
   "execution_count": 15,
   "metadata": {},
   "outputs": [
    {
     "data": {
      "text/plain": [
       "499999.5"
      ]
     },
     "execution_count": 15,
     "metadata": {},
     "output_type": "execute_result"
    }
   ],
   "source": [
    "@njit()\n",
    "def mean_of_list_pure_python_numba(my_list:list):\n",
    "    sum_of_x = 0\n",
    "    for x in range(len(my_list)):\n",
    "        sum_of_x += my_list[x]\n",
    "    return sum_of_x/len(my_list)\n",
    "numba_list = my_list.copy()\n",
    "mean_of_list_pure_python_numba(numba_list)"
   ]
  },
  {
   "cell_type": "code",
   "execution_count": 16,
   "metadata": {},
   "outputs": [
    {
     "name": "stdout",
     "output_type": "stream",
     "text": [
      "594 ms ± 5.29 ms per loop (mean ± std. dev. of 7 runs, 1 loop each)\n"
     ]
    }
   ],
   "source": [
    "%timeit mean_of_list_pure_python_numba(numba_list)"
   ]
  },
  {
   "cell_type": "code",
   "execution_count": 17,
   "metadata": {},
   "outputs": [],
   "source": [
    "speeds_records[\"unoptimized_numba\"] = 594"
   ]
  },
  {
   "cell_type": "markdown",
   "metadata": {},
   "source": [
    "Numba does not work efficiently when the data type mutable such as a list, a dictionary or an object. We have first to process the input to help numba interpret better how to compile the code"
   ]
  },
  {
   "cell_type": "code",
   "execution_count": 18,
   "metadata": {},
   "outputs": [
    {
     "data": {
      "text/plain": [
       "499999.5"
      ]
     },
     "execution_count": 18,
     "metadata": {},
     "output_type": "execute_result"
    }
   ],
   "source": [
    "@njit()\n",
    "def mean_of_list_pure_python_numba(my_list:np.array):\n",
    "    return my_list.mean()\n",
    "numba_list = np.array(my_list)\n",
    "mean_of_list_pure_python_numba(numba_list)"
   ]
  },
  {
   "cell_type": "code",
   "execution_count": 19,
   "metadata": {},
   "outputs": [
    {
     "name": "stdout",
     "output_type": "stream",
     "text": [
      "548 μs ± 3.88 μs per loop (mean ± std. dev. of 7 runs, 1,000 loops each)\n"
     ]
    }
   ],
   "source": [
    "%timeit mean_of_list_pure_python_numba(numba_list)"
   ]
  },
  {
   "cell_type": "code",
   "execution_count": 20,
   "metadata": {},
   "outputs": [],
   "source": [
    "speeds_records[\"optimized_numba\"] = 0.548\n"
   ]
  },
  {
   "cell_type": "markdown",
   "metadata": {},
   "source": [
    "## Mean in Numpy"
   ]
  },
  {
   "cell_type": "code",
   "execution_count": 21,
   "metadata": {},
   "outputs": [],
   "source": [
    "my_list_in_numpy = np.array(my_list)"
   ]
  },
  {
   "cell_type": "code",
   "execution_count": 22,
   "metadata": {},
   "outputs": [
    {
     "name": "stdout",
     "output_type": "stream",
     "text": [
      "503 μs ± 4.96 μs per loop (mean ± std. dev. of 7 runs, 1,000 loops each)\n"
     ]
    },
    {
     "data": {
      "text/plain": [
       "499999.5"
      ]
     },
     "execution_count": 22,
     "metadata": {},
     "output_type": "execute_result"
    }
   ],
   "source": [
    "%timeit my_list_in_numpy.mean()\n",
    "my_list_in_numpy.mean()"
   ]
  },
  {
   "cell_type": "code",
   "execution_count": 23,
   "metadata": {},
   "outputs": [],
   "source": [
    "speeds_records[\"numpy\"] = 0.503"
   ]
  },
  {
   "cell_type": "code",
   "execution_count": 28,
   "metadata": {},
   "outputs": [
    {
     "data": {
      "text/plain": [
       "{'pure_python': 17.5,\n",
       " 'C': 2.03,\n",
       " 'unoptimized_numba': 594,\n",
       " 'optimized_numba': 0.548,\n",
       " 'numpy': 0.503}"
      ]
     },
     "execution_count": 28,
     "metadata": {},
     "output_type": "execute_result"
    }
   ],
   "source": [
    "speeds_records"
   ]
  },
  {
   "cell_type": "code",
   "execution_count": 35,
   "metadata": {},
   "outputs": [],
   "source": [
    "import seaborn as sns"
   ]
  },
  {
   "cell_type": "code",
   "execution_count": 44,
   "metadata": {},
   "outputs": [
    {
     "data": {
      "image/png": "[encoded data removed]",
      "text/plain": [
       "<Figure size 640x480 with 1 Axes>"
      ]
     },
     "metadata": {},
     "output_type": "display_data"
    }
   ],
   "source": [
    "speed_records_df = pl.from_dict(\n",
    "    {\n",
    "        \"implementation\": [key for key in speeds_records.keys()],\n",
    "        \"time_in_ms\": [value for value in speeds_records.values()],\n",
    "    }\n",
    ")\n",
    "ax = sns.barplot(\n",
    "    speed_records_df.filter(pl.col(\"implementation\")!=\"unoptimized_numba\"),\n",
    "    x=\"implementation\",\n",
    "    y=\"time_in_ms\",\n",
    "\n",
    ")\n",
    "ax.set(title=\"Execution time in ms for each implementation of the mean of a list\")\n",
    "for i in ax.containers:\n",
    "    ax.bar_label(i,)"
   ]
  },
  {
   "cell_type": "markdown",
   "metadata": {},
   "source": [
    "The Numpy code is 4 times faster than the C code, how is it possible?"
   ]
  },
  {
   "cell_type": "markdown",
   "metadata": {},
   "source": [
    "# Multiple means"
   ]
  },
  {
   "cell_type": "code",
   "execution_count": 48,
   "metadata": {},
   "outputs": [],
   "source": [
    "width = 20\n",
    "my_lists = np.array([np.random.randint(0,100, n) for x in range(width)])"
   ]
  },
  {
   "cell_type": "code",
   "execution_count": 49,
   "metadata": {},
   "outputs": [],
   "source": [
    "def sum_of_means_array(array2D:np.array)->float:\n",
    "    sum_of_means = 0\n",
    "    for i in range(len(array2D)):\n",
    "        mean_of_list = array2D[i].mean()\n",
    "        sum_of_means += mean_of_list\n",
    "    return sum_of_means"
   ]
  },
  {
   "cell_type": "code",
   "execution_count": 53,
   "metadata": {},
   "outputs": [
    {
     "name": "stdout",
     "output_type": "stream",
     "text": [
      "13.6 ms ± 136 μs per loop (mean ± std. dev. of 7 runs, 100 loops each)\n"
     ]
    },
    {
     "data": {
      "text/plain": [
       "989.885843"
      ]
     },
     "execution_count": 53,
     "metadata": {},
     "output_type": "execute_result"
    }
   ],
   "source": [
    "%timeit sum_of_means_array(my_lists)\n",
    "sum_of_means_array(my_lists)"
   ]
  },
  {
   "cell_type": "code",
   "execution_count": 51,
   "metadata": {},
   "outputs": [
    {
     "data": {
      "text/plain": [
       "989.8858429999998"
      ]
     },
     "execution_count": 51,
     "metadata": {},
     "output_type": "execute_result"
    }
   ],
   "source": [
    "@nb.jit(parallel=True)\n",
    "def sum_of_means_array_numba(array2D:np.array)->float:\n",
    "    sum_of_means = 0\n",
    "    for i in nb.prange(len(array2D)):\n",
    "        mean_of_list = array2D[i].mean()\n",
    "        sum_of_means += mean_of_list\n",
    "    return sum_of_means\n",
    "sum_of_means_array_numba(my_lists)"
   ]
  },
  {
   "cell_type": "code",
   "execution_count": 52,
   "metadata": {},
   "outputs": [
    {
     "name": "stdout",
     "output_type": "stream",
     "text": [
      "2.77 ms ± 22 μs per loop (mean ± std. dev. of 7 runs, 100 loops each)\n"
     ]
    }
   ],
   "source": [
    "%timeit sum_of_means_array_numba(my_lists)"
   ]
  },
  {
   "cell_type": "code",
   "execution_count": 54,
   "metadata": {},
   "outputs": [
    {
     "name": "stdout",
     "output_type": "stream",
     "text": [
      "13.4 ms ± 36.9 μs per loop (mean ± std. dev. of 7 runs, 100 loops each)\n"
     ]
    }
   ],
   "source": [
    "def sum_of_means_turbo_numpy(array2D:np.array)->float:\n",
    "    return array2D.mean(axis=1).sum()\n",
    "%timeit sum_of_means_turbo_numpy(my_lists)"
   ]
  },
  {
   "cell_type": "code",
   "execution_count": 55,
   "metadata": {},
   "outputs": [],
   "source": [
    "df = pl.DataFrame({\n",
    "    f\"array_{i}\": array for i, array in enumerate(my_lists) \n",
    "})"
   ]
  },
  {
   "cell_type": "code",
   "execution_count": 58,
   "metadata": {},
   "outputs": [
    {
     "name": "stdout",
     "output_type": "stream",
     "text": [
      "9.7 ms ± 333 μs per loop (mean ± std. dev. of 7 runs, 100 loops each)\n"
     ]
    },
    {
     "data": {
      "text/html": [
       "<div><style>\n",
       ".dataframe > thead > tr,\n",
       ".dataframe > tbody > tr {\n",
       "  text-align: right;\n",
       "  white-space: pre-wrap;\n",
       "}\n",
       "</style>\n",
       "<small>shape: (1,)</small><table border=\"1\" class=\"dataframe\"><thead><tr><th>sum</th></tr><tr><td>f64</td></tr></thead><tbody><tr><td>989.885843</td></tr></tbody></table></div>"
      ],
      "text/plain": [
       "shape: (1,)\n",
       "Series: 'sum' [f64]\n",
       "[\n",
       "\t989.885843\n",
       "]"
      ]
     },
     "execution_count": 58,
     "metadata": {},
     "output_type": "execute_result"
    }
   ],
   "source": [
    "%timeit df.mean().sum_horizontal()\n",
    "df.mean().sum_horizontal()"
   ]
  }
 ],
 "metadata": {
  "kernelspec": {
   "display_name": ".venv",
   "language": "python",
   "name": "python3"
  },
  "language_info": {
   "codemirror_mode": {
    "name": "ipython",
    "version": 3
   },
   "file_extension": ".py",
   "mimetype": "text/x-python",
   "name": "python",
   "nbconvert_exporter": "python",
   "pygments_lexer": "ipython3",
   "version": "3.12.3"
  }
 },
 "nbformat": 4,
 "nbformat_minor": 2
}
